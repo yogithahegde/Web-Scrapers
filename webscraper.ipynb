{
  "nbformat": 4,
  "nbformat_minor": 0,
  "metadata": {
    "colab": {
      "name": "Untitled28.ipynb",
      "provenance": [],
      "collapsed_sections": [],
      "authorship_tag": "ABX9TyNu7Ehv1TRNEuDvGIS2C1FM",
      "include_colab_link": true
    },
    "kernelspec": {
      "name": "python3",
      "display_name": "Python 3"
    },
    "language_info": {
      "name": "python"
    }
  },
  "cells": [
    {
      "cell_type": "markdown",
      "metadata": {
        "id": "view-in-github",
        "colab_type": "text"
      },
      "source": [
        "<a href=\"https://colab.research.google.com/github/yogithahegde/Web-Scrapers/blob/main/webscraper.ipynb\" target=\"_parent\"><img src=\"https://colab.research.google.com/assets/colab-badge.svg\" alt=\"Open In Colab\"/></a>"
      ]
    },
    {
      "cell_type": "code",
      "source": [
        "from bs4 import BeautifulSoup\n",
        "import requests\n",
        "from csv import writer\n",
        "import json\n",
        "f = open('/content/sample.json')\n",
        "\n",
        "data = json.load(f)\n",
        "with open('Restaurant_details.csv', 'a', encoding='utf8', newline='') as p:\n",
        "  thewriterr = writer(p)\n",
        "  header = ['name', 'logo', 'Restaurant_cuisine', 'latitude','longitude','menu_items']\n",
        "  thewriterr.writerow(header)\n",
        "with open('Menu_details.csv', 'a', encoding='utf8', newline='') as q:\n",
        "  thewriter = writer(q)\n",
        "  header = ['item', 'description', 'price', 'image']\n",
        "  thewriter.writerow(header)\n",
        "for i in range(len(data)):\n",
        "  url = data[i]\n",
        "\n",
        "  page = requests.get(url)\n",
        "\n",
        "  soup = BeautifulSoup(page.content, 'html.parser')\n",
        "  lists = soup.find_all('div', class_=\"menuscreenstyles__MenuContainer-sc-1mfqwvs-0 dhJCkg\")\n",
        "  items = []\n",
        "  description=[]\n",
        "  price=[]\n",
        "  image=[]\n",
        "\n",
        "\n",
        "  with open('Restaurant_details.csv', 'a', encoding='utf8', newline='') as p:\n",
        "    thewriterr = writer(p)\n",
        "    for list in lists:\n",
        "      Restaurant_cuisine = list.find('div', class_=\"col-sm-12 col-16 p-r-0\").text.replace('\\n', '')\n",
        "      name = list.find('h1', class_='f-24 f-m-15 media-heading f-400 mb-0').contents[0].strip() \n",
        "      logo = list.findAll('img')[0]['src']\n",
        "      js = soup.find('script',type = 'application/json').text.strip()\n",
        "      j = json.loads(js)\n",
        "      latitude = j['props']['pageProps']['gtmEventData']['area']['lat']\n",
        "      longitude = j['props']['pageProps']['gtmEventData']['area']['lng']\n",
        "      menu = j['props']['pageProps']['initialMenuState']['menuData']['items']\n",
        "      with open('Menu_details.csv', 'a', encoding='utf8', newline='') as q:\n",
        "        thewriter = writer(q)\n",
        "        header = ['item', 'description', 'price', 'image']\n",
        "        \n",
        "        for x in menu:\n",
        "          items.append(x['name'])\n",
        "          description.append(x['description'])\n",
        "          image.append(x['image'])\n",
        "          price.append(x['price'])\n",
        "          for i in range(len(items)):\n",
        "            menu_details = [items[i],description[i],price[i],image[i]]\n",
        "            info = [name,logo,Restaurant_cuisine,latitude,longitude,items]\n",
        "          thewriter.writerow(menu_details)\n",
        "        thewriterr.writerow(info) \n",
        "          \n",
        "\n",
        "      \n",
        "\n",
        "      \n",
        "            \n"
      ],
      "metadata": {
        "id": "oG6dv8Xib-CL"
      },
      "execution_count": 21,
      "outputs": []
    }
  ]
}